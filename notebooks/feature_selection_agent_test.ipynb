{
 "cells": [
  {
   "cell_type": "code",
   "execution_count": null,
   "id": "232dd386",
   "metadata": {},
   "outputs": [],
   "source": [
    "import sys\n",
    "import os\n",
    "\n",
    "sys.path.append(os.path.join(os.getcwd(), '..'))\n",
    "\n",
    "import pandas as pd\n",
    "from openai import OpenAI\n",
    "import instructor\n"
   ]
  },
  {
   "cell_type": "code",
   "execution_count": 13,
   "id": "e687ac02",
   "metadata": {},
   "outputs": [],
   "source": [
    "from dotenv import load_dotenv\n",
    "load_dotenv()\n",
    "API_KEY = os.getenv(\"API_KEY\")"
   ]
  },
  {
   "cell_type": "code",
   "execution_count": 14,
   "id": "f2378d6e",
   "metadata": {},
   "outputs": [],
   "source": [
    "df = pd.read_csv('../datasets/titanic.csv')"
   ]
  },
  {
   "cell_type": "code",
   "execution_count": 19,
   "id": "2b62c8ab",
   "metadata": {},
   "outputs": [],
   "source": [
    "titanic_dict = df.head(50).to_dict()"
   ]
  },
  {
   "cell_type": "code",
   "execution_count": null,
   "id": "4b59041d",
   "metadata": {},
   "outputs": [],
   "source": [
    "client = instructor.from_openai(OpenAI(api_key=API_KEY))"
   ]
  },
  {
   "cell_type": "code",
   "execution_count": 22,
   "id": "8c2c0bc7",
   "metadata": {},
   "outputs": [],
   "source": [
    "request = FeatureSelectionRequest(\n",
    "    metadata=Metadata(\n",
    "        dataset_name=\"Titanic\",\n",
    "        problem_type=\"classification\",\n",
    "        target_column=\"Survived\"\n",
    "    ),\n",
    "    data=titanic_dict\n",
    ")"
   ]
  },
  {
   "cell_type": "code",
   "execution_count": 23,
   "id": "c1057cb8",
   "metadata": {},
   "outputs": [
    {
     "name": "stdout",
     "output_type": "stream",
     "text": [
      "Selected features: ['Pclass', 'Sex', 'Age', 'SibSp', 'Parch', 'Fare', 'Embarked']\n",
      "Reasoning: The selected features include Pclass, Sex, Age, SibSp, Parch, Fare, and Embarked, which are important for predicting survival on the Titanic based on the classification task.\n"
     ]
    }
   ],
   "source": [
    "response = client.chat.completions.create(\n",
    "    model=\"gpt-3.5-turbo\",\n",
    "    messages=[\n",
    "        {\n",
    "            \"role\": \"system\",\n",
    "            \"content\": \"You are an intelligent ML feature selector. You analyze datasets and return the most relevant features based on a classification or regression task.\"\n",
    "        },\n",
    "        {\n",
    "            \"role\": \"user\",\n",
    "            \"content\": f\"Here is a dataset and metadata: {request.model_dump_json()}\"\n",
    "        }\n",
    "    ],\n",
    "    response_model=FeatureSelectionResponse\n",
    ")\n",
    "\n",
    "print(\"Selected features:\", response.selected_features)\n",
    "print(\"Reasoning:\", response.reasoning)"
   ]
  }
 ],
 "metadata": {
  "kernelspec": {
   "display_name": "multi_agent_automl",
   "language": "python",
   "name": "python3"
  },
  "language_info": {
   "codemirror_mode": {
    "name": "ipython",
    "version": 3
   },
   "file_extension": ".py",
   "mimetype": "text/x-python",
   "name": "python",
   "nbconvert_exporter": "python",
   "pygments_lexer": "ipython3",
   "version": "3.10.17"
  }
 },
 "nbformat": 4,
 "nbformat_minor": 5
}
