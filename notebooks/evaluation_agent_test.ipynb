{
 "cells": [
  {
   "cell_type": "code",
   "execution_count": 2,
   "id": "30b412dc",
   "metadata": {},
   "outputs": [],
   "source": [
    "import os\n",
    "import sys\n",
    "\n",
    "sys.path.append(os.path.join(os.getcwd(), '..'))\n",
    "\n",
    "from schemas.evaluation import EvaluationRequest\n",
    "from agents.evaluation_agent import run_evaluation_agent\n",
    "from models.feature import FeatureSpec\n",
    "from models.model import ModelEnum\n",
    "\n",
    "import pandas as pd"
   ]
  },
  {
   "cell_type": "code",
   "execution_count": 3,
   "id": "54d9f02d",
   "metadata": {},
   "outputs": [],
   "source": [
    "features = [\n",
    "    FeatureSpec(name=\"Age\", dtype=\"numeric\", origin=\"raw\", transformer=\"none\"),\n",
    "    FeatureSpec(name=\"Fare\", dtype=\"numeric\", origin=\"raw\", transformer=\"none\"),\n",
    "    FeatureSpec(name=\"Sex\", dtype=\"categorical\", origin=\"raw\", transformer=\"none\"),\n",
    "]\n",
    "\n",
    "model_info = {\n",
    "    \"model\": \"RandomForest\",\n",
    "    \"max_depth\": 5,\n",
    "    \"n_estimators\": 100,\n",
    "}"
   ]
  },
  {
   "cell_type": "code",
   "execution_count": 4,
   "id": "7d4ea1ac",
   "metadata": {},
   "outputs": [],
   "source": [
    "req = EvaluationRequest(\n",
    "    metadata={\n",
    "        \"dataset_name\": \"Titanic\",\n",
    "        \"problem_type\": \"classification\",\n",
    "        \"target_column\": \"Survived\",\n",
    "    },\n",
    "    selected_features=features,\n",
    "    model_name=ModelEnum.RANDOMFOREST,\n",
    "    hyperparameters={\"max_depth\": 5, \"n_estimators\": 100}\n",
    ")"
   ]
  },
  {
   "cell_type": "code",
   "execution_count": 5,
   "id": "53988d56",
   "metadata": {},
   "outputs": [],
   "source": [
    "current_metrics = {\"f1_score\": 0.72, \"accuracy\": 0.81}\n",
    "history = [\n",
    "    {\"f1_score\": 0.68, \"accuracy\": 0.78},\n",
    "    {\"f1_score\": 0.70, \"accuracy\": 0.80},\n",
    "]\n",
    "optimization_goal = \"maximize recall, avoid overfitting\""
   ]
  },
  {
   "cell_type": "code",
   "execution_count": 6,
   "id": "c6936cbd",
   "metadata": {},
   "outputs": [
    {
     "name": "stderr",
     "output_type": "stream",
     "text": [
      "\u001b[32m2025-05-30 20:27:55.143\u001b[0m | \u001b[1mINFO    \u001b[0m | \u001b[36magents.evaluation_agent\u001b[0m:\u001b[36mrun_evaluation_agent\u001b[0m:\u001b[36m110\u001b[0m - \u001b[1mRunning evaluation agent for dataset 'Titanic'\u001b[0m\n",
      "\u001b[32m2025-05-30 20:27:55.146\u001b[0m | \u001b[1mINFO    \u001b[0m | \u001b[36magents.evaluation_agent\u001b[0m:\u001b[36mrun_evaluation_agent\u001b[0m:\u001b[36m121\u001b[0m - \u001b[1mPrompt length: 442 characters\u001b[0m\n",
      "\u001b[32m2025-05-30 20:27:57.315\u001b[0m | \u001b[1mINFO    \u001b[0m | \u001b[36magents.evaluation_agent\u001b[0m:\u001b[36mrun_evaluation_agent\u001b[0m:\u001b[36m125\u001b[0m - \u001b[1mLLM decision: continue\u001b[0m\n"
     ]
    }
   ],
   "source": [
    "decision = run_evaluation_agent(\n",
    "    request=req,\n",
    "    current_metrics=current_metrics,\n",
    "    history=history,\n",
    "    model_info=model_info,\n",
    "    optimization_goal=optimization_goal\n",
    ")"
   ]
  },
  {
   "cell_type": "code",
   "execution_count": 7,
   "id": "86c47365",
   "metadata": {},
   "outputs": [
    {
     "name": "stdout",
     "output_type": "stream",
     "text": [
      "Recommendation: continue\n",
      "Reasoning: The current model has shown improvement in both f1_score and accuracy compared to the previous iterations. The metrics are stable and indicate a reasonable performance without signs of overfitting. It is recommended to continue training the model with the current configuration to further improve performance.\n",
      "Confidence: 0.8\n"
     ]
    }
   ],
   "source": [
    "print(\"Recommendation:\", decision.recommendation)\n",
    "print(\"Reasoning:\", decision.reasoning)\n",
    "print(\"Confidence:\", decision.confidence)"
   ]
  },
  {
   "cell_type": "code",
   "execution_count": null,
   "id": "d67589a6",
   "metadata": {},
   "outputs": [],
   "source": []
  }
 ],
 "metadata": {
  "kernelspec": {
   "display_name": "multi_agent_automl",
   "language": "python",
   "name": "python3"
  },
  "language_info": {
   "codemirror_mode": {
    "name": "ipython",
    "version": 3
   },
   "file_extension": ".py",
   "mimetype": "text/x-python",
   "name": "python",
   "nbconvert_exporter": "python",
   "pygments_lexer": "ipython3",
   "version": "3.10.17"
  }
 },
 "nbformat": 4,
 "nbformat_minor": 5
}
